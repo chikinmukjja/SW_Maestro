{
 "cells": [
  {
   "cell_type": "code",
   "execution_count": 21,
   "metadata": {
    "collapsed": false
   },
   "outputs": [],
   "source": [
    "from sklearn.grid_search import GridSearchCV\n",
    "from sklearn.neural_network import MLPClassifier\n",
    "from matplotlib import pyplot as plt\n",
    "%matplotlib inline"
   ]
  },
  {
   "cell_type": "code",
   "execution_count": 2,
   "metadata": {
    "collapsed": true
   },
   "outputs": [],
   "source": [
    "import pandas as pd\n",
    "import numpy as np"
   ]
  },
  {
   "cell_type": "code",
   "execution_count": 3,
   "metadata": {
    "collapsed": true
   },
   "outputs": [],
   "source": [
    "train_df = pd.DataFrame(columns = ['x','y'])"
   ]
  },
  {
   "cell_type": "code",
   "execution_count": 4,
   "metadata": {
    "collapsed": false
   },
   "outputs": [],
   "source": [
    "train_df['x'] = range(-10,10)\n",
    "train_df['y'] = train_df['x']*train_df['x']\n",
    "train_df['xx'] = train_df['x']"
   ]
  },
  {
   "cell_type": "code",
   "execution_count": 5,
   "metadata": {
    "collapsed": false
   },
   "outputs": [],
   "source": [
    "for i in range(10):\n",
    "    train_df = pd.concat([train_df,train_df],axis=0)"
   ]
  },
  {
   "cell_type": "code",
   "execution_count": 6,
   "metadata": {
    "collapsed": false
   },
   "outputs": [
    {
     "name": "stdout",
     "output_type": "stream",
     "text": [
      "<class 'pandas.core.frame.DataFrame'>\n",
      "Int64Index: 20480 entries, 0 to 19\n",
      "Data columns (total 3 columns):\n",
      "x     20480 non-null int32\n",
      "y     20480 non-null int32\n",
      "xx    20480 non-null int32\n",
      "dtypes: int32(3)\n",
      "memory usage: 400.0 KB\n"
     ]
    }
   ],
   "source": [
    "train_df.info()"
   ]
  },
  {
   "cell_type": "code",
   "execution_count": 7,
   "metadata": {
    "collapsed": false
   },
   "outputs": [],
   "source": [
    "clf = MLPClassifier(alpha=1e-5,\n",
    "                    hidden_layer_sizes=(60,60), random_state=1, \n",
    "                    verbose=True, max_iter=10000,tol=1e-9)"
   ]
  },
  {
   "cell_type": "code",
   "execution_count": 8,
   "metadata": {
    "collapsed": false
   },
   "outputs": [
    {
     "data": {
      "text/html": [
       "<div>\n",
       "<table border=\"1\" class=\"dataframe\">\n",
       "  <thead>\n",
       "    <tr style=\"text-align: right;\">\n",
       "      <th></th>\n",
       "      <th>x</th>\n",
       "      <th>y</th>\n",
       "      <th>xx</th>\n",
       "    </tr>\n",
       "  </thead>\n",
       "  <tbody>\n",
       "    <tr>\n",
       "      <th>0</th>\n",
       "      <td>-10</td>\n",
       "      <td>100</td>\n",
       "      <td>-10</td>\n",
       "    </tr>\n",
       "    <tr>\n",
       "      <th>1</th>\n",
       "      <td>-9</td>\n",
       "      <td>81</td>\n",
       "      <td>-9</td>\n",
       "    </tr>\n",
       "    <tr>\n",
       "      <th>2</th>\n",
       "      <td>-8</td>\n",
       "      <td>64</td>\n",
       "      <td>-8</td>\n",
       "    </tr>\n",
       "    <tr>\n",
       "      <th>3</th>\n",
       "      <td>-7</td>\n",
       "      <td>49</td>\n",
       "      <td>-7</td>\n",
       "    </tr>\n",
       "    <tr>\n",
       "      <th>4</th>\n",
       "      <td>-6</td>\n",
       "      <td>36</td>\n",
       "      <td>-6</td>\n",
       "    </tr>\n",
       "    <tr>\n",
       "      <th>5</th>\n",
       "      <td>-5</td>\n",
       "      <td>25</td>\n",
       "      <td>-5</td>\n",
       "    </tr>\n",
       "    <tr>\n",
       "      <th>6</th>\n",
       "      <td>-4</td>\n",
       "      <td>16</td>\n",
       "      <td>-4</td>\n",
       "    </tr>\n",
       "    <tr>\n",
       "      <th>7</th>\n",
       "      <td>-3</td>\n",
       "      <td>9</td>\n",
       "      <td>-3</td>\n",
       "    </tr>\n",
       "    <tr>\n",
       "      <th>8</th>\n",
       "      <td>-2</td>\n",
       "      <td>4</td>\n",
       "      <td>-2</td>\n",
       "    </tr>\n",
       "    <tr>\n",
       "      <th>9</th>\n",
       "      <td>-1</td>\n",
       "      <td>1</td>\n",
       "      <td>-1</td>\n",
       "    </tr>\n",
       "  </tbody>\n",
       "</table>\n",
       "</div>"
      ],
      "text/plain": [
       "    x    y  xx\n",
       "0 -10  100 -10\n",
       "1  -9   81  -9\n",
       "2  -8   64  -8\n",
       "3  -7   49  -7\n",
       "4  -6   36  -6\n",
       "5  -5   25  -5\n",
       "6  -4   16  -4\n",
       "7  -3    9  -3\n",
       "8  -2    4  -2\n",
       "9  -1    1  -1"
      ]
     },
     "execution_count": 8,
     "metadata": {},
     "output_type": "execute_result"
    }
   ],
   "source": [
    "train_df.head(10)"
   ]
  },
  {
   "cell_type": "code",
   "execution_count": 9,
   "metadata": {
    "collapsed": true
   },
   "outputs": [],
   "source": [
    "from sklearn.metrics import accuracy_score"
   ]
  },
  {
   "cell_type": "code",
   "execution_count": 10,
   "metadata": {
    "collapsed": false,
    "scrolled": true
   },
   "outputs": [
    {
     "name": "stdout",
     "output_type": "stream",
     "text": [
      "Iteration 1, loss = 2.14199787\n",
      "Iteration 2, loss = 1.57930224\n",
      "Iteration 3, loss = 1.14322779\n",
      "Iteration 4, loss = 0.85250396\n",
      "Iteration 5, loss = 0.65448233\n",
      "Iteration 6, loss = 0.51744566\n",
      "Iteration 7, loss = 0.41590144\n",
      "Iteration 8, loss = 0.33422238\n",
      "Iteration 9, loss = 0.27167190\n",
      "Iteration 10, loss = 0.21868102\n",
      "Iteration 11, loss = 0.17741348\n",
      "Iteration 12, loss = 0.14418585\n",
      "Iteration 13, loss = 0.11647606\n",
      "Iteration 14, loss = 0.09507652\n",
      "Iteration 15, loss = 0.07752209\n",
      "Iteration 16, loss = 0.06388996\n",
      "Iteration 17, loss = 0.05263842\n",
      "Iteration 18, loss = 0.04371226\n",
      "Iteration 19, loss = 0.03670991\n",
      "Iteration 20, loss = 0.03083871\n",
      "Iteration 21, loss = 0.02607100\n",
      "Iteration 22, loss = 0.02211598\n",
      "Iteration 23, loss = 0.01899035\n",
      "Iteration 24, loss = 0.01637681\n",
      "Iteration 25, loss = 0.01428586\n",
      "Iteration 26, loss = 0.01236206\n",
      "Iteration 27, loss = 0.01087281\n",
      "Iteration 28, loss = 0.00956170\n",
      "Iteration 29, loss = 0.00841762\n",
      "Iteration 30, loss = 0.00747717\n",
      "Iteration 31, loss = 0.00665301\n",
      "Iteration 32, loss = 0.00596767\n",
      "Iteration 33, loss = 0.00533093\n",
      "Iteration 34, loss = 0.00478973\n",
      "Iteration 35, loss = 0.00432559\n",
      "Iteration 36, loss = 0.00391490\n",
      "Iteration 37, loss = 0.00353031\n",
      "Iteration 38, loss = 0.00320637\n",
      "Iteration 39, loss = 0.00291745\n",
      "Iteration 40, loss = 0.00265058\n",
      "Iteration 41, loss = 0.00242069\n",
      "Iteration 42, loss = 0.00220542\n",
      "Iteration 43, loss = 0.00201826\n",
      "Iteration 44, loss = 0.00185219\n",
      "Iteration 45, loss = 0.00169450\n",
      "Iteration 46, loss = 0.00155646\n",
      "Iteration 47, loss = 0.00143617\n",
      "Iteration 48, loss = 0.00132376\n",
      "Iteration 49, loss = 0.00122210\n",
      "Iteration 50, loss = 0.00113165\n",
      "Iteration 51, loss = 0.00104566\n",
      "Iteration 52, loss = 0.00096778\n",
      "Iteration 53, loss = 0.00089687\n",
      "Iteration 54, loss = 0.00083156\n",
      "Iteration 55, loss = 0.00077435\n",
      "Iteration 56, loss = 0.00071904\n",
      "Iteration 57, loss = 0.00066895\n",
      "Iteration 58, loss = 0.00062168\n",
      "Iteration 59, loss = 0.00057897\n",
      "Iteration 60, loss = 0.00054107\n",
      "Iteration 61, loss = 0.00050333\n",
      "Iteration 62, loss = 0.00046972\n",
      "Iteration 63, loss = 0.00043887\n",
      "Iteration 64, loss = 0.00041083\n",
      "Iteration 65, loss = 0.00038330\n",
      "Iteration 66, loss = 0.00035814\n",
      "Iteration 67, loss = 0.00033528\n",
      "Iteration 68, loss = 0.00031395\n",
      "Iteration 69, loss = 0.00029466\n",
      "Iteration 70, loss = 0.00027643\n",
      "Iteration 71, loss = 0.00025921\n",
      "Iteration 72, loss = 0.00024386\n",
      "Iteration 73, loss = 0.00022856\n",
      "Iteration 74, loss = 0.00021461\n",
      "Iteration 75, loss = 0.00020210\n",
      "Iteration 76, loss = 0.00018982\n",
      "Iteration 77, loss = 0.00017915\n",
      "Iteration 78, loss = 0.00016897\n",
      "Iteration 79, loss = 0.00015944\n",
      "Iteration 80, loss = 0.00015038\n",
      "Iteration 81, loss = 0.00014179\n",
      "Iteration 82, loss = 0.00013401\n",
      "Iteration 83, loss = 0.00012685\n",
      "Iteration 84, loss = 0.00012021\n",
      "Iteration 85, loss = 0.00011390\n",
      "Iteration 86, loss = 0.00010776\n",
      "Iteration 87, loss = 0.00010237\n",
      "Iteration 88, loss = 0.00009729\n",
      "Iteration 89, loss = 0.00009233\n",
      "Iteration 90, loss = 0.00008781\n",
      "Iteration 91, loss = 0.00008349\n",
      "Iteration 92, loss = 0.00007947\n",
      "Iteration 93, loss = 0.00007577\n",
      "Iteration 94, loss = 0.00007225\n",
      "Iteration 95, loss = 0.00006899\n",
      "Iteration 96, loss = 0.00006596\n",
      "Iteration 97, loss = 0.00006310\n",
      "Iteration 98, loss = 0.00006029\n",
      "Iteration 99, loss = 0.00005778\n",
      "Iteration 100, loss = 0.00005552\n",
      "Iteration 101, loss = 0.00005315\n",
      "Iteration 102, loss = 0.00005096\n",
      "Iteration 103, loss = 0.00004901\n",
      "Iteration 104, loss = 0.00004708\n",
      "Iteration 105, loss = 0.00004534\n",
      "Iteration 106, loss = 0.00004370\n",
      "Iteration 107, loss = 0.00004217\n",
      "Iteration 108, loss = 0.00004079\n",
      "Iteration 109, loss = 0.00003938\n",
      "Iteration 110, loss = 0.00003815\n",
      "Iteration 111, loss = 0.00003696\n",
      "Iteration 112, loss = 0.00003585\n",
      "Iteration 113, loss = 0.00003484\n",
      "Iteration 114, loss = 0.00003386\n",
      "Iteration 115, loss = 0.00003294\n",
      "Iteration 116, loss = 0.00003206\n",
      "Iteration 117, loss = 0.00003126\n",
      "Iteration 118, loss = 0.00003052\n",
      "Iteration 119, loss = 0.00002979\n",
      "Iteration 120, loss = 0.00002910\n",
      "Iteration 121, loss = 0.00002849\n",
      "Iteration 122, loss = 0.00002787\n",
      "Iteration 123, loss = 0.00002731\n",
      "Iteration 124, loss = 0.00002676\n",
      "Iteration 125, loss = 0.00002626\n",
      "Iteration 126, loss = 0.00002579\n",
      "Iteration 127, loss = 0.00002532\n",
      "Iteration 128, loss = 0.00002490\n",
      "Iteration 129, loss = 0.00002451\n",
      "Iteration 130, loss = 0.00002412\n",
      "Iteration 131, loss = 0.00002376\n",
      "Iteration 132, loss = 0.00002342\n",
      "Iteration 133, loss = 0.00002310\n",
      "Iteration 134, loss = 0.00002281\n",
      "Iteration 135, loss = 0.00002252\n",
      "Iteration 136, loss = 0.00002225\n",
      "Iteration 137, loss = 0.00002200\n",
      "Iteration 138, loss = 0.00002175\n",
      "Iteration 139, loss = 0.00002152\n",
      "Iteration 140, loss = 0.00002128\n",
      "Iteration 141, loss = 0.00002104\n",
      "Iteration 142, loss = 0.00002082\n",
      "Iteration 143, loss = 0.00002061\n",
      "Iteration 144, loss = 0.00002041\n",
      "Iteration 145, loss = 0.00002023\n",
      "Iteration 146, loss = 0.00002006\n",
      "Iteration 147, loss = 0.00001989\n",
      "Iteration 148, loss = 0.00001974\n",
      "Iteration 149, loss = 0.00001959\n",
      "Iteration 150, loss = 0.00001945\n",
      "Iteration 151, loss = 0.00001931\n",
      "Iteration 152, loss = 0.00001917\n",
      "Iteration 153, loss = 0.00001905\n",
      "Iteration 154, loss = 0.00001892\n",
      "Iteration 155, loss = 0.00001879\n",
      "Iteration 156, loss = 0.00001867\n",
      "Iteration 157, loss = 0.00001855\n",
      "Iteration 158, loss = 0.00001843\n",
      "Iteration 159, loss = 0.00001832\n",
      "Iteration 160, loss = 0.00001821\n",
      "Iteration 161, loss = 0.00001810\n",
      "Iteration 162, loss = 0.00001799\n",
      "Iteration 163, loss = 0.00001788\n",
      "Iteration 164, loss = 0.00001778\n",
      "Iteration 165, loss = 0.00001767\n",
      "Iteration 166, loss = 0.00001757\n",
      "Iteration 167, loss = 0.00001746\n",
      "Iteration 168, loss = 0.00001736\n",
      "Iteration 169, loss = 0.00001726\n",
      "Iteration 170, loss = 0.00001714\n",
      "Iteration 171, loss = 0.00001702\n",
      "Iteration 172, loss = 0.00001691\n",
      "Iteration 173, loss = 0.00001680\n",
      "Iteration 174, loss = 0.00001669\n",
      "Iteration 175, loss = 0.00001658\n",
      "Iteration 176, loss = 0.00001647\n",
      "Iteration 177, loss = 0.00001635\n",
      "Iteration 178, loss = 0.00001623\n",
      "Iteration 179, loss = 0.00001612\n",
      "Iteration 180, loss = 0.00001601\n",
      "Iteration 181, loss = 0.00001590\n",
      "Iteration 182, loss = 0.00001579\n",
      "Iteration 183, loss = 0.00001567\n",
      "Iteration 184, loss = 0.00001556\n",
      "Iteration 185, loss = 0.00001544\n",
      "Iteration 186, loss = 0.00001532\n",
      "Iteration 187, loss = 0.00001520\n",
      "Iteration 188, loss = 0.00001509\n",
      "Iteration 189, loss = 0.00001497\n",
      "Iteration 190, loss = 0.00001485\n",
      "Iteration 191, loss = 0.00001472\n",
      "Iteration 192, loss = 0.00001459\n",
      "Iteration 193, loss = 0.00001445\n",
      "Iteration 194, loss = 0.00001431\n",
      "Iteration 195, loss = 0.00001419\n",
      "Iteration 196, loss = 0.00001406\n",
      "Iteration 197, loss = 0.00001393\n",
      "Iteration 198, loss = 0.00001381\n",
      "Iteration 199, loss = 0.00001368\n",
      "Iteration 200, loss = 0.00001355\n",
      "Iteration 201, loss = 0.00001342\n",
      "Iteration 202, loss = 0.00001329\n",
      "Iteration 203, loss = 0.00001317\n",
      "Iteration 204, loss = 0.00001303\n",
      "Iteration 205, loss = 0.00001290\n",
      "Iteration 206, loss = 0.00001277\n",
      "Iteration 207, loss = 0.00001264\n",
      "Iteration 208, loss = 0.00001250\n",
      "Iteration 209, loss = 0.00001237\n",
      "Iteration 210, loss = 0.00001224\n",
      "Iteration 211, loss = 0.00001210\n",
      "Iteration 212, loss = 0.00001197\n",
      "Iteration 213, loss = 0.00001184\n",
      "Iteration 214, loss = 0.00001172\n",
      "Iteration 215, loss = 0.00001159\n",
      "Iteration 216, loss = 0.00001147\n",
      "Iteration 217, loss = 0.00001134\n",
      "Iteration 218, loss = 0.00001122\n",
      "Iteration 219, loss = 0.00001109\n",
      "Iteration 220, loss = 0.00001098\n",
      "Iteration 221, loss = 0.00001086\n",
      "Iteration 222, loss = 0.00001075\n",
      "Iteration 223, loss = 0.00001063\n",
      "Iteration 224, loss = 0.00001052\n",
      "Iteration 225, loss = 0.00001041\n",
      "Iteration 226, loss = 0.00001030\n",
      "Iteration 227, loss = 0.00001020\n",
      "Iteration 228, loss = 0.00001009\n",
      "Iteration 229, loss = 0.00000999\n",
      "Iteration 230, loss = 0.00000989\n",
      "Iteration 231, loss = 0.00000979\n",
      "Iteration 232, loss = 0.00000969\n",
      "Iteration 233, loss = 0.00000960\n",
      "Iteration 234, loss = 0.00000951\n",
      "Iteration 235, loss = 0.00000941\n",
      "Iteration 236, loss = 0.00000932\n",
      "Iteration 237, loss = 0.00000924\n",
      "Iteration 238, loss = 0.00000915\n",
      "Iteration 239, loss = 0.00000906\n",
      "Iteration 240, loss = 0.00000898\n",
      "Iteration 241, loss = 0.00000890\n",
      "Iteration 242, loss = 0.00000882\n",
      "Iteration 243, loss = 0.00000875\n",
      "Iteration 244, loss = 0.00000867\n",
      "Iteration 245, loss = 0.00000859\n",
      "Iteration 246, loss = 0.00000853\n",
      "Iteration 247, loss = 0.00000845\n",
      "Iteration 248, loss = 0.00000838\n",
      "Iteration 249, loss = 0.00000831\n",
      "Iteration 250, loss = 0.00000825\n",
      "Iteration 251, loss = 0.00000819\n",
      "Iteration 252, loss = 0.00000812\n",
      "Iteration 253, loss = 0.00000804\n",
      "Iteration 254, loss = 0.00000799\n",
      "Iteration 255, loss = 0.00000794\n",
      "Iteration 256, loss = 0.00000787\n",
      "Iteration 257, loss = 0.00000782\n",
      "Iteration 258, loss = 0.00000776\n",
      "Iteration 259, loss = 0.00000771\n",
      "Iteration 260, loss = 0.00000766\n",
      "Iteration 261, loss = 0.00000760\n",
      "Iteration 262, loss = 0.00000756\n",
      "Iteration 263, loss = 0.00000751\n",
      "Iteration 264, loss = 0.01039765\n",
      "Iteration 265, loss = 0.00001547\n",
      "Iteration 266, loss = 0.00001020\n",
      "Training loss did not improve more than tol=0.000000 for two consecutive epochs. Stopping.\n"
     ]
    },
    {
     "data": {
      "text/plain": [
       "1.0"
      ]
     },
     "execution_count": 10,
     "metadata": {},
     "output_type": "execute_result"
    }
   ],
   "source": [
    "clf.fit(np.array(train_df.drop('y',axis=1)), np.array(train_df['y']))\n",
    "result = clf.predict(train_df.drop('y',axis=1))\n",
    "accuracy_score(train_df['y'], result)"
   ]
  },
  {
   "cell_type": "code",
   "execution_count": 11,
   "metadata": {
    "collapsed": true
   },
   "outputs": [],
   "source": [
    "train_df['result'] =  result"
   ]
  },
  {
   "cell_type": "code",
   "execution_count": 23,
   "metadata": {
    "collapsed": false
   },
   "outputs": [
    {
     "data": {
      "text/plain": [
       "<matplotlib.axes._subplots.AxesSubplot at 0x14d0ab6e550>"
      ]
     },
     "execution_count": 23,
     "metadata": {},
     "output_type": "execute_result"
    },
    {
     "data": {
      "image/png": "[encoded data removed]",
      "text/plain": [
       "<matplotlib.figure.Figure at 0x14d0ab65208>"
      ]
     },
     "metadata": {},
     "output_type": "display_data"
    }
   ],
   "source": [
    "train_df.head(20)['result'].plot()"
   ]
  },
  {
   "cell_type": "code",
   "execution_count": null,
   "metadata": {
    "collapsed": true
   },
   "outputs": [],
   "source": []
  }
 ],
 "metadata": {
  "anaconda-cloud": {},
  "kernelspec": {
   "display_name": "Python [Root]",
   "language": "python",
   "name": "Python [Root]"
  },
  "language_info": {
   "codemirror_mode": {
    "name": "ipython",
    "version": 3
   },
   "file_extension": ".py",
   "mimetype": "text/x-python",
   "name": "python",
   "nbconvert_exporter": "python",
   "pygments_lexer": "ipython3",
   "version": "3.5.2"
  }
 },
 "nbformat": 4,
 "nbformat_minor": 0
}
