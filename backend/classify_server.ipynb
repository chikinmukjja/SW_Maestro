{
 "cells": [
  {
   "cell_type": "markdown",
   "metadata": {},
   "source": []
  },
  {
   "cell_type": "code",
   "execution_count": 1,
   "metadata": {
    "collapsed": true
   },
   "outputs": [],
   "source": [
    "#-*- coding: utf-8 -*-\n",
    "import sys\n",
    "reload(sys)\n",
    "sys.setdefaultencoding('utf-8')\n",
    "\n",
    "from sklearn.externals import joblib\n",
    "from konlpy.tag import Mecab\n",
    "from konlpy.utils import pprint\n",
    "\n",
    "def data_add(text):\n",
    "    text = text.replace(\" \", ',,,,')\n",
    "    return text"
   ]
  },
  {
   "cell_type": "code",
   "execution_count": 2,
   "metadata": {
    "collapsed": false
   },
   "outputs": [],
   "source": [
    "clf = joblib.load('classify.model')\n",
    "cate_dict = joblib.load('cate_dict.dat')\n",
    "vectorizer = joblib.load('vectorizer.dat')"
   ]
  },
  {
   "cell_type": "code",
   "execution_count": 3,
   "metadata": {
    "collapsed": false
   },
   "outputs": [
    {
     "data": {
      "text/plain": [
       "['n_classify.model',\n",
       " 'n_classify.model_01.npy',\n",
       " 'n_classify.model_02.npy',\n",
       " 'n_classify.model_03.npy']"
      ]
     },
     "execution_count": 3,
     "metadata": {},
     "output_type": "execute_result"
    }
   ],
   "source": [
    "joblib.dump(clf,'n_classify.model')"
   ]
  },
  {
   "cell_type": "code",
   "execution_count": 4,
   "metadata": {
    "collapsed": false
   },
   "outputs": [
    {
     "data": {
      "text/plain": [
       "['n_vectorizer.dat', 'n_vectorizer.dat_01.npy', 'n_vectorizer.dat_02.npy']"
      ]
     },
     "execution_count": 4,
     "metadata": {},
     "output_type": "execute_result"
    }
   ],
   "source": [
    "joblib.dump(cate_dict,'n_cate_dict.dat')\n",
    "joblib.dump(vectorizer,'n_vectorizer.dat')"
   ]
  },
  {
   "cell_type": "code",
   "execution_count": 5,
   "metadata": {
    "collapsed": true
   },
   "outputs": [],
   "source": [
    "mecab = Mecab()"
   ]
  },
  {
   "cell_type": "code",
   "execution_count": 6,
   "metadata": {
    "collapsed": false
   },
   "outputs": [],
   "source": [
    "cate_id_name_dict = dict(map(lambda (k,v):(v,k),cate_dict.items()))"
   ]
  },
  {
   "cell_type": "markdown",
   "metadata": {},
   "source": [
    "# ---"
   ]
  },
  {
   "cell_type": "code",
   "execution_count": 7,
   "metadata": {
    "collapsed": true
   },
   "outputs": [],
   "source": [
    "from sklearn.feature_selection import SelectKBest\n",
    "from sklearn.feature_selection import chi2\n",
    "import pandas as pd"
   ]
  },
  {
   "cell_type": "code",
   "execution_count": 8,
   "metadata": {
    "collapsed": false
   },
   "outputs": [],
   "source": [
    "train_df = pd.read_pickle(\"soma_goods_train.df\")"
   ]
  },
  {
   "cell_type": "code",
   "execution_count": 9,
   "metadata": {
    "collapsed": false
   },
   "outputs": [],
   "source": [
    "d_list = []\n",
    "cate_list = []\n",
    "for each in train_df.iterrows():\n",
    "    cate = \";\".join([each[1]['cate1'],each[1]['cate2'],each[1]['cate3']])\n",
    "    d_list.append(\" \".join(str(e) for e in mecab.pos(data_add(each[1]['name']))))\n",
    "    cate_list.append(cate)"
   ]
  },
  {
   "cell_type": "code",
   "execution_count": 10,
   "metadata": {
    "collapsed": true
   },
   "outputs": [],
   "source": [
    "print len(set(cate_list))"
   ]
  },
  {
   "cell_type": "code",
   "execution_count": 12,
   "metadata": {
    "collapsed": true
   },
   "outputs": [],
   "source": [
    "cate_dict = dict(zip(list(set(cate_list)),range(len(set(cate_list)))))"
   ]
  },
  {
   "cell_type": "code",
   "execution_count": 11,
   "metadata": {
    "collapsed": true
   },
   "outputs": [],
   "source": [
    "y_list = []\n",
    "for each in train_df.iterrows():\n",
    "    cate = \";\".join([each[1]['cate1'],each[1]['cate2'],each[1]['cate3']])\n",
    "    y_list.append(cate_dict[cate])"
   ]
  },
  {
   "cell_type": "code",
   "execution_count": 13,
   "metadata": {
    "collapsed": true
   },
   "outputs": [],
   "source": [
    "x_list = vectorizer.fit_transform(d_list)"
   ]
  },
  {
   "cell_type": "code",
   "execution_count": 14,
   "metadata": {
    "collapsed": false
   },
   "outputs": [
    {
     "data": {
      "text/plain": [
       "(10000, 254527)"
      ]
     },
     "execution_count": 14,
     "metadata": {},
     "output_type": "execute_result"
    }
   ],
   "source": [
    "x_list.shape"
   ]
  },
  {
   "cell_type": "code",
   "execution_count": 15,
   "metadata": {
    "collapsed": false
   },
   "outputs": [],
   "source": [
    "test = SelectKBest(chi2,k=120000)\n",
    "fit = test.fit(x_list,y_list)"
   ]
  },
  {
   "cell_type": "code",
   "execution_count": 16,
   "metadata": {
    "collapsed": false
   },
   "outputs": [],
   "source": [
    "data =\" \".join(str(e) for e in mecab.pos(data_add('[신한카드5%할인][서우한복] 아동한복 여자아동 금나래 (분홍)')))\n",
    "data = fit.transform(vectorizer.transform([data]))"
   ]
  },
  {
   "cell_type": "code",
   "execution_count": 17,
   "metadata": {
    "collapsed": false
   },
   "outputs": [],
   "source": [
    "##data =\" \".join(str(e) for e in mecab.pos(data_clean_adnormal2('[신한카드5%할인][서우한복] 아동한복 여자아동 금나래 (분홍)')))\n",
    "#pred = clf.predict(vectorizer.transform([data]))[0]\n",
    "pred = clf.predict(data)[0]\n",
    "#data.shape"
   ]
  },
  {
   "cell_type": "code",
   "execution_count": null,
   "metadata": {
    "collapsed": true
   },
   "outputs": [],
   "source": [
    "# normal\n",
    "from bottle import route, run, template,request,get, post\n",
    "\n",
    "\n",
    "import  time\n",
    "from threading import  Condition\n",
    "_CONDITION = Condition()\n",
    "@route('/classify')\n",
    "def classify():\n",
    "    pprint (u\"classify\")\n",
    "    img = request.GET.get('img','')\n",
    "    name = request.GET.get('name', '')\n",
    "    print name\n",
    "    pred = clf.predict(vectorizer.transform([\" \".join(str(e) for e in mecab.pos(data_clean_adnormal2(name)))]))[0]\n",
    "    return {'cate':cate_id_name_dict[pred]}\n",
    "\n",
    "\n",
    "run(host='0.0.0.0', port=8887)\n"
   ]
  },
  {
   "cell_type": "code",
   "execution_count": null,
   "metadata": {
    "collapsed": false
   },
   "outputs": [],
   "source": [
    "# selectKBest \n",
    "from bottle import route, run, template,request,get, post\n",
    "\n",
    "\n",
    "\n",
    "import  time\n",
    "from threading import  Condition\n",
    "_CONDITION = Condition()\n",
    "@route('/classify')\n",
    "def classify():\n",
    "    pprint (u\"classify\")\n",
    "    img = request.GET.get('img','')\n",
    "    name = request.GET.get('name', '')\n",
    "    print name\n",
    "    pred = clf.predict(fit.transform(\n",
    "            vectorizer.transform(\n",
    "                [\" \".join(str(e) for e in mecab.pos(data_add(name)))])\n",
    "        ))[0]\n",
    "    return {'cate':cate_id_name_dict[pred]}\n",
    "\n",
    "\n",
    "run(host='0.0.0.0', port=8887)\n"
   ]
  },
  {
   "cell_type": "markdown",
   "metadata": {
    "collapsed": true
   },
   "source": [
    " * 추후 여기 docker 에서 뭔가 python package 설치할게 있으면 \n",
    " * /opt/conda/bin/pip2 install bottle 이런식으로 설치 가능"
   ]
  },
  {
   "cell_type": "code",
   "execution_count": null,
   "metadata": {
    "collapsed": true
   },
   "outputs": [],
   "source": []
  },
  {
   "cell_type": "code",
   "execution_count": null,
   "metadata": {
    "collapsed": true
   },
   "outputs": [],
   "source": []
  }
 ],
 "metadata": {
  "kernelspec": {
   "display_name": "Python 2",
   "language": "python",
   "name": "python2"
  },
  "language_info": {
   "codemirror_mode": {
    "name": "ipython",
    "version": 2
   },
   "file_extension": ".py",
   "mimetype": "text/x-python",
   "name": "python",
   "nbconvert_exporter": "python",
   "pygments_lexer": "ipython2",
   "version": "2.7.11"
  },
  "widgets": {
   "state": {},
   "version": "1.1.2"
  }
 },
 "nbformat": 4,
 "nbformat_minor": 0
}
